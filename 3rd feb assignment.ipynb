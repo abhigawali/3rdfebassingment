{
 "cells": [
  {
   "cell_type": "markdown",
   "id": "0c946e74-bae9-44bd-a7fd-d101f0cd509e",
   "metadata": {},
   "source": [
    "Q1. Which keyword is used to create a function? Create a function to return a list of odd numbers in the\n",
    "range of 1 to 25."
   ]
  },
  {
   "cell_type": "markdown",
   "id": "9ea69a8c-6dc7-4254-bfff-1f4fe5aced18",
   "metadata": {},
   "source": [
    "ANS = \"def\" keyword is used to create a function;\n",
    "\n",
    "\n",
    "\n",
    "\n",
    "The full form of \"def\" is \"defination\"."
   ]
  },
  {
   "cell_type": "code",
   "execution_count": 17,
   "id": "dfe4549c-2a80-49af-9abe-edcce5ad048c",
   "metadata": {},
   "outputs": [],
   "source": [
    "starting,ending = 1,25\n",
    "def test():\n",
    "    a = starting,ending %2!=0\n",
    "    return a"
   ]
  },
  {
   "cell_type": "code",
   "execution_count": 18,
   "id": "fb0997f7-e743-49a6-b56f-00cdb498bcfe",
   "metadata": {},
   "outputs": [
    {
     "data": {
      "text/plain": [
       "(1, True)"
      ]
     },
     "execution_count": 18,
     "metadata": {},
     "output_type": "execute_result"
    }
   ],
   "source": [
    "test()"
   ]
  },
  {
   "cell_type": "markdown",
   "id": "70757480-4ad2-4400-aec4-2b3b5899898b",
   "metadata": {},
   "source": [
    "Q2.Why *args and **kwargs is used in some functions? Create a function each for *args and **kwargs\n",
    "to demonstrate their use."
   ]
  },
  {
   "cell_type": "markdown",
   "id": "06b44b82-46e9-4bc5-8866-3ff64d008948",
   "metadata": {},
   "source": [
    "ANS :- We use *args and **kwargs as an argument when we are unsure about the number of arguments to pass in the functions."
   ]
  },
  {
   "cell_type": "code",
   "execution_count": 1,
   "id": "79489150-b830-48a5-abc3-b349aee8651d",
   "metadata": {},
   "outputs": [],
   "source": [
    "## eg of args \n",
    "def test(*args):\n",
    "    return args"
   ]
  },
  {
   "cell_type": "code",
   "execution_count": 5,
   "id": "d1da242e-c7c9-4901-ab01-15509227378c",
   "metadata": {},
   "outputs": [
    {
     "data": {
      "text/plain": [
       "(3,)"
      ]
     },
     "execution_count": 5,
     "metadata": {},
     "output_type": "execute_result"
    }
   ],
   "source": [
    "test(1+2)"
   ]
  },
  {
   "cell_type": "code",
   "execution_count": 6,
   "id": "575bffee-e989-426b-a093-a7697108b9f3",
   "metadata": {},
   "outputs": [],
   "source": [
    "##eg of kwargs\n",
    "def test2(**kwargs):\n",
    "    return kwargs"
   ]
  },
  {
   "cell_type": "code",
   "execution_count": 7,
   "id": "a3cd241b-a0ae-496d-8524-5bd3829a891e",
   "metadata": {},
   "outputs": [
    {
     "data": {
      "text/plain": [
       "{'a': [1, 2, 3, 6], 'b': 'abhi'}"
      ]
     },
     "execution_count": 7,
     "metadata": {},
     "output_type": "execute_result"
    }
   ],
   "source": [
    "test2(a = [1,2,3,6], b = \"abhi\")"
   ]
  },
  {
   "cell_type": "markdown",
   "id": "7d2ca021-9bea-49f8-bd1d-e92a5b2e4dde",
   "metadata": {},
   "source": [
    "Q3. What is an iterator in python? Name the method used to initialise the iterator object and the method\n",
    "used for iteration. Use these methods to print the first five elements of the given list [2, 4, 6, 8, 10, 12, 14,\n",
    "16, 18, 20]"
   ]
  },
  {
   "cell_type": "markdown",
   "id": "3fb82942-e25d-49b3-837c-1a595f212583",
   "metadata": {},
   "source": [
    "ANS :- Iterator in Python is an object that is used to iterate over iterable objects like lists, tuples, dicts, and sets. The iterator object is initialized using the iter() method. It uses the next() method for iteration.\n",
    "\n",
    "__iter__(): The iter() method is called for the initialization of an iterator. This returns an iterator object\n",
    "\n",
    "__next__(): The next method returns the next value for the iterable. When we use a for loop to traverse any iterable object, internally it uses the iter() method to get an iterator object, which further uses the next() method to iterate over. This method raises a StopIteration to signal the end of the iteration.ANS :- Iterator in Python is an object that is used to iterate over iterable objects like lists, tuples, dicts, and sets. The iterator object is initialized using the iter() method. It uses the next() method for iteration.\n"
   ]
  },
  {
   "cell_type": "code",
   "execution_count": 9,
   "id": "c5a0b763-2bc8-4661-b1b0-9f32e21fc1be",
   "metadata": {},
   "outputs": [
    {
     "name": "stdout",
     "output_type": "stream",
     "text": [
      "2\n",
      "4\n",
      "6\n",
      "8\n",
      "10\n"
     ]
    }
   ],
   "source": [
    "my_object = [2, 4, 6, 8, 10, 12, 14, 16, 18, 20]\n",
    "iter_obj = iter(my_object)\n",
    "print(next(iter_obj))\n",
    "print(next(iter_obj))\n",
    "print(next(iter_obj))\n",
    "print(next(iter_obj))\n",
    "print(next(iter_obj))"
   ]
  },
  {
   "cell_type": "markdown",
   "id": "41da3a03-a2ea-4ed0-9fd7-233135e95784",
   "metadata": {},
   "source": [
    "Q4. What is a generator function in python? Why yield keyword is used? Give an example of a generator\n",
    "function."
   ]
  },
  {
   "cell_type": "markdown",
   "id": "377fb136-9314-41fc-afa9-83e7be368314",
   "metadata": {},
   "source": [
    "ANS :- Generator-Function: A generator-function is defined like a normal function, but whenever it needs to generate a value, it does so with the yield keyword rather than return. If the body of a def contains yield, the function automatically becomes a generator function. "
   ]
  },
  {
   "cell_type": "code",
   "execution_count": 16,
   "id": "ff5aabf3-03da-46d1-bd81-2089afc5575f",
   "metadata": {},
   "outputs": [
    {
     "name": "stdout",
     "output_type": "stream",
     "text": [
      "4\n"
     ]
    }
   ],
   "source": [
    "## eg of generator function with yield\n",
    "\n",
    "def test3():\n",
    "    yield 1 + 3\n",
    "for i in test3():\n",
    "    print(i)"
   ]
  },
  {
   "cell_type": "markdown",
   "id": "72b64177-e11a-4c8a-bbc3-e3fa42bd3126",
   "metadata": {},
   "source": [
    "Q5. Create a generator function for prime numbers less than 1000. Use the next() method to print the\n",
    "first 20 prime numbers."
   ]
  },
  {
   "cell_type": "code",
   "execution_count": 2,
   "id": "cc1aa7a2-7c31-4393-98d1-319fa2382a9f",
   "metadata": {},
   "outputs": [
    {
     "name": "stdout",
     "output_type": "stream",
     "text": [
      "2,3,5,7,11,13,17,19,23,29,31,37,41,43,47,53,59,61,67,71,"
     ]
    }
   ],
   "source": [
    "def test4(n):\n",
    "    for i in range(1,n):\n",
    "        count=0 \n",
    "        for j in range(1,n+1):\n",
    "            if i%j==0:\n",
    "                count+=1\n",
    "        if count==2:\n",
    "            yield i\n",
    "            \n",
    "\n",
    "fun1=test4(1000)\n",
    "for a in range(20):\n",
    "    print(next(fun1),end=\",\")"
   ]
  },
  {
   "cell_type": "markdown",
   "id": "9bda712c-fa3a-473a-a215-590bd8923288",
   "metadata": {},
   "source": [
    "Qus-6) Write a python program to print the first 10 Fibonacci numbers using a while loop."
   ]
  },
  {
   "cell_type": "code",
   "execution_count": 3,
   "id": "a164c275-ef22-4bf6-bbbf-c45ee5740d4d",
   "metadata": {},
   "outputs": [
    {
     "name": "stdout",
     "output_type": "stream",
     "text": [
      "0\n",
      "1\n",
      "1\n",
      "2\n",
      "3\n",
      "5\n",
      "8\n",
      "13\n",
      "21\n",
      "34\n"
     ]
    }
   ],
   "source": [
    "def fibonacci():\n",
    "    a,b=0,1\n",
    "    while True:\n",
    "        yield a\n",
    "        a,b=b,a+b\n",
    "fib=fibonacci()\n",
    "for i in range(10):\n",
    "    print(next(fib))"
   ]
  },
  {
   "cell_type": "markdown",
   "id": "ab9d6c7a-df7a-4b20-9c5d-397e8300c35c",
   "metadata": {},
   "source": [
    "Qus-7) Write a List Comprehension to iterate through the given string: ‘pwskills’. Expected output: ['p', 'w', 's', 'k', 'i', 'l', 'l', 's']"
   ]
  },
  {
   "cell_type": "code",
   "execution_count": 4,
   "id": "980575b1-52d5-4e59-9f81-ed5cdf95fc6a",
   "metadata": {},
   "outputs": [
    {
     "data": {
      "text/plain": [
       "['p', 'w', 's', 'k', 'i', 'l', 'l', 's']"
      ]
     },
     "execution_count": 4,
     "metadata": {},
     "output_type": "execute_result"
    }
   ],
   "source": [
    "string='pwskills'\n",
    "\n",
    "[i for i in string]"
   ]
  },
  {
   "cell_type": "markdown",
   "id": "57bd20c7-fd8f-43a4-90b6-7d01c66bfa1d",
   "metadata": {},
   "source": [
    "Qus-8) Write a python program to check whether a given number is Palindrome or not using a while loop."
   ]
  },
  {
   "cell_type": "code",
   "execution_count": 5,
   "id": "e8a4c58f-cd11-47fc-a675-e741f2d3ecf0",
   "metadata": {},
   "outputs": [
    {
     "name": "stdin",
     "output_type": "stream",
     "text": [
      "Chack is Palindrome or not:-  56\n"
     ]
    },
    {
     "name": "stdout",
     "output_type": "stream",
     "text": [
      "It is not Palindrome\n"
     ]
    }
   ],
   "source": [
    "n=input(\"Chack is Palindrome or not:- \")\n",
    "f= lambda n : print(\"It is Palindrome\") if n.lower()==n[::-1].lower() else print(\"It is not Palindrome\")\n",
    "f(str(n))"
   ]
  },
  {
   "cell_type": "markdown",
   "id": "c5f6df67-375e-48df-84e8-c01db5e25294",
   "metadata": {},
   "source": [
    "Qus-9) Write a code to print odd numbers from 1 to 100 using list comprehension."
   ]
  },
  {
   "cell_type": "code",
   "execution_count": 6,
   "id": "f5542f7b-2931-46e5-ac4e-c8f077a94375",
   "metadata": {},
   "outputs": [
    {
     "name": "stdout",
     "output_type": "stream",
     "text": [
      "[1, 3, 5, 7, 9, 11, 13, 15, 17, 19, 21, 23, 25, 27, 29, 31, 33, 35, 37, 39, 41, 43, 45, 47, 49, 51, 53, 55, 57, 59, 61, 63, 65, 67, 69, 71, 73, 75, 77, 79, 81, 83, 85, 87, 89, 91, 93, 95, 97, 99]\n"
     ]
    }
   ],
   "source": [
    "l=[i for i in range(1,101) if i%2==1 ]\n",
    "print(l)"
   ]
  },
  {
   "cell_type": "code",
   "execution_count": null,
   "id": "40438625-6ade-4bf5-8ec5-0db292f411a2",
   "metadata": {},
   "outputs": [],
   "source": []
  }
 ],
 "metadata": {
  "kernelspec": {
   "display_name": "Python 3 (ipykernel)",
   "language": "python",
   "name": "python3"
  },
  "language_info": {
   "codemirror_mode": {
    "name": "ipython",
    "version": 3
   },
   "file_extension": ".py",
   "mimetype": "text/x-python",
   "name": "python",
   "nbconvert_exporter": "python",
   "pygments_lexer": "ipython3",
   "version": "3.10.8"
  }
 },
 "nbformat": 4,
 "nbformat_minor": 5
}
